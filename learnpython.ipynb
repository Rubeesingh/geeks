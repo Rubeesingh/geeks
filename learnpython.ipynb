{
  "nbformat": 4,
  "nbformat_minor": 0,
  "metadata": {
    "colab": {
      "provenance": [],
      "authorship_tag": "ABX9TyMjyDRx25zjF2VExWedsJdD",
      "include_colab_link": true
    },
    "kernelspec": {
      "name": "python3",
      "display_name": "Python 3"
    },
    "language_info": {
      "name": "python"
    }
  },
  "cells": [
    {
      "cell_type": "markdown",
      "metadata": {
        "id": "view-in-github",
        "colab_type": "text"
      },
      "source": [
        "<a href=\"https://colab.research.google.com/github/Rubeesingh/geeks/blob/main/learnpython.ipynb\" target=\"_parent\"><img src=\"https://colab.research.google.com/assets/colab-badge.svg\" alt=\"Open In Colab\"/></a>"
      ]
    },
    {
      "cell_type": "code",
      "source": [
        "l=[10,'ws',5,4]\n",
        "l[2]=10\n",
        "print(l,type(l))\n"
      ],
      "metadata": {
        "colab": {
          "base_uri": "https://localhost:8080/"
        },
        "id": "Or7Vb8p-5aC0",
        "outputId": "0718a636-e518-4eba-a13a-d039d50423a7"
      },
      "execution_count": null,
      "outputs": [
        {
          "output_type": "stream",
          "name": "stdout",
          "text": [
            "[10, 'ws', 10, 4] <class 'list'>\n"
          ]
        }
      ]
    },
    {
      "cell_type": "code",
      "source": [
        "t=(10,2,'hello')\n",
        "print(t,type(t))"
      ],
      "metadata": {
        "colab": {
          "base_uri": "https://localhost:8080/"
        },
        "id": "D8d0tjmA7F-T",
        "outputId": "7dd20454-4a6b-424d-af1a-223a0f4c428d"
      },
      "execution_count": null,
      "outputs": [
        {
          "output_type": "stream",
          "name": "stdout",
          "text": [
            "(10, 2, 'hello') <class 'tuple'>\n"
          ]
        }
      ]
    },
    {
      "cell_type": "code",
      "source": [
        "a= eval(input(\"Enter the value1:-\"))\n",
        "b= eval(input(\"Enter the value2:-\"))\n",
        "print (a+b)"
      ],
      "metadata": {
        "colab": {
          "base_uri": "https://localhost:8080/"
        },
        "id": "7cYHDMtdmYgB",
        "outputId": "55181464-1b20-4f86-f8dc-85244241bc9e"
      },
      "execution_count": null,
      "outputs": [
        {
          "output_type": "stream",
          "name": "stdout",
          "text": [
            "Enter the value1:-0b100\n",
            "Enter the value2:-2\n",
            "6\n"
          ]
        }
      ]
    },
    {
      "cell_type": "code",
      "execution_count": null,
      "metadata": {
        "colab": {
          "base_uri": "https://localhost:8080/"
        },
        "id": "_M9xvffK522s",
        "outputId": "74af108b-d874-49ec-c5ce-52fdada0ab9d"
      },
      "outputs": [
        {
          "output_type": "stream",
          "name": "stdout",
          "text": [
            "Enter the value 21\n",
            "21 odd number\n"
          ]
        }
      ],
      "source": [
        "a=int(input(\"Enter the value \"))\n",
        "if a%2==0:\n",
        "   print(a,\"Even Number\")\n",
        "else:\n",
        "  print(a,\"odd number\")"
      ]
    },
    {
      "cell_type": "code",
      "source": [
        "per=int(input(\"Enter the value:-\"))\n",
        "if per>=60:\n",
        "   print(\"first div\")\n",
        "elif per>=48:\n",
        "   print(\"second div\")\n",
        "elif per>=33:\n",
        "   print(\"third div\")\n",
        "else:\n",
        "    print(\"fail\")\n",
        "\n",
        "\n",
        "\n"
      ],
      "metadata": {
        "colab": {
          "base_uri": "https://localhost:8080/"
        },
        "id": "JYGMDpV6reI_",
        "outputId": "3ee850c0-6b9d-4dbb-aaf4-d01eb9d9a2a8"
      },
      "execution_count": null,
      "outputs": [
        {
          "output_type": "stream",
          "name": "stdout",
          "text": [
            "Enter the value:-22\n",
            "fail\n"
          ]
        }
      ]
    },
    {
      "cell_type": "code",
      "source": [],
      "metadata": {
        "id": "E5gkYpwW5Pcb"
      },
      "execution_count": null,
      "outputs": []
    },
    {
      "cell_type": "code",
      "source": [
        "print('''\n",
        "+add\n",
        "-subtract\n",
        "*multiply\n",
        "/Divide\n",
        "''')\n",
        "num1=int(input(\"Enter the value1:-\"))\n",
        "num2=int(input(\"Enter the value2:-\"))\n",
        "opr=input(\"Enter the operator\")\n",
        "if opr==\"+\":\n",
        "  print(num1+num2)\n",
        "elif opr==\"-\":\n",
        "  print(num1-num2)\n",
        "elif opr==\"*\":\n",
        "  print(num1*num2)\n",
        "elif opr==\"/\":\n",
        "  print(num1/num2)\n",
        "else:\n",
        "  print(\"Invalid operation\")\n",
        "\n",
        "\n",
        "\n",
        "\n"
      ],
      "metadata": {
        "id": "S_7yJ7Aas_20"
      },
      "execution_count": null,
      "outputs": []
    },
    {
      "cell_type": "code",
      "source": [
        "#for loop\n",
        "for n in range(5):\n",
        "      print(n)\n",
        "for n in range(1,6):\n",
        "      print(n)\n",
        "for n in range(1,6,2):\n",
        "      print(n)"
      ],
      "metadata": {
        "id": "dVB4-_82EmUI"
      },
      "execution_count": null,
      "outputs": []
    }
  ]
}