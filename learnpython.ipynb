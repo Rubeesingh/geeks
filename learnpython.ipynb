{
  "nbformat": 4,
  "nbformat_minor": 0,
  "metadata": {
    "colab": {
      "provenance": [],
      "authorship_tag": "ABX9TyOZg87oh03HiLOf1VJcWUt4",
      "include_colab_link": true
    },
    "kernelspec": {
      "name": "python3",
      "display_name": "Python 3"
    },
    "language_info": {
      "name": "python"
    }
  },
  "cells": [
    {
      "cell_type": "markdown",
      "metadata": {
        "id": "view-in-github",
        "colab_type": "text"
      },
      "source": [
        "<a href=\"https://colab.research.google.com/github/Rubeesingh/geeks/blob/main/learnpython.ipynb\" target=\"_parent\"><img src=\"https://colab.research.google.com/assets/colab-badge.svg\" alt=\"Open In Colab\"/></a>"
      ]
    },
    {
      "cell_type": "code",
      "source": [
        "#list\n",
        "l=[10,'ws',5,4]\n",
        "l[2]=10\n",
        "print(l,type(l))\n"
      ],
      "metadata": {
        "colab": {
          "base_uri": "https://localhost:8080/"
        },
        "id": "Or7Vb8p-5aC0",
        "outputId": "0718a636-e518-4eba-a13a-d039d50423a7"
      },
      "execution_count": null,
      "outputs": [
        {
          "output_type": "stream",
          "name": "stdout",
          "text": [
            "[10, 'ws', 10, 4] <class 'list'>\n"
          ]
        }
      ]
    },
    {
      "cell_type": "code",
      "source": [
        "#tuple\n",
        "t=(10,2,'hello')\n",
        "print(t,type(t))"
      ],
      "metadata": {
        "colab": {
          "base_uri": "https://localhost:8080/"
        },
        "id": "D8d0tjmA7F-T",
        "outputId": "7dd20454-4a6b-424d-af1a-223a0f4c428d"
      },
      "execution_count": null,
      "outputs": [
        {
          "output_type": "stream",
          "name": "stdout",
          "text": [
            "(10, 2, 'hello') <class 'tuple'>\n"
          ]
        }
      ]
    },
    {
      "cell_type": "code",
      "source": [
        "a= eval(input(\"Enter the value1:-\"))\n",
        "b= eval(input(\"Enter the value2:-\"))\n",
        "print (a+b)"
      ],
      "metadata": {
        "colab": {
          "base_uri": "https://localhost:8080/"
        },
        "id": "7cYHDMtdmYgB",
        "outputId": "55181464-1b20-4f86-f8dc-85244241bc9e"
      },
      "execution_count": null,
      "outputs": [
        {
          "output_type": "stream",
          "name": "stdout",
          "text": [
            "Enter the value1:-0b100\n",
            "Enter the value2:-2\n",
            "6\n"
          ]
        }
      ]
    },
    {
      "cell_type": "code",
      "execution_count": null,
      "metadata": {
        "colab": {
          "base_uri": "https://localhost:8080/"
        },
        "id": "_M9xvffK522s",
        "outputId": "74af108b-d874-49ec-c5ce-52fdada0ab9d"
      },
      "outputs": [
        {
          "output_type": "stream",
          "name": "stdout",
          "text": [
            "Enter the value 21\n",
            "21 odd number\n"
          ]
        }
      ],
      "source": [
        "a=int(input(\"Enter the value \"))\n",
        "if a%2==0:\n",
        "   print(a,\"Even Number\")\n",
        "else:\n",
        "  print(a,\"odd number\")"
      ]
    },
    {
      "cell_type": "code",
      "source": [
        "per=int(input(\"Enter the value:-\"))\n",
        "if per>=60:\n",
        "   print(\"first div\")\n",
        "elif per>=48:\n",
        "   print(\"second div\")\n",
        "elif per>=33:\n",
        "   print(\"third div\")\n",
        "else:\n",
        "    print(\"fail\")\n",
        "\n",
        "\n",
        "\n"
      ],
      "metadata": {
        "colab": {
          "base_uri": "https://localhost:8080/"
        },
        "id": "JYGMDpV6reI_",
        "outputId": "3ee850c0-6b9d-4dbb-aaf4-d01eb9d9a2a8"
      },
      "execution_count": null,
      "outputs": [
        {
          "output_type": "stream",
          "name": "stdout",
          "text": [
            "Enter the value:-22\n",
            "fail\n"
          ]
        }
      ]
    },
    {
      "cell_type": "code",
      "source": [],
      "metadata": {
        "id": "E5gkYpwW5Pcb"
      },
      "execution_count": null,
      "outputs": []
    },
    {
      "cell_type": "code",
      "source": [
        "print('''\n",
        "+add\n",
        "-subtract\n",
        "*multiply\n",
        "/Divide\n",
        "''')\n",
        "num1=int(input(\"Enter the value1:-\"))\n",
        "num2=int(input(\"Enter the value2:-\"))\n",
        "opr=input(\"Enter the operator\")\n",
        "if opr==\"+\":\n",
        "  print(num1+num2)\n",
        "elif opr==\"-\":\n",
        "  print(num1-num2)\n",
        "elif opr==\"*\":\n",
        "  print(num1*num2)\n",
        "elif opr==\"/\":\n",
        "  print(num1/num2)\n",
        "else:\n",
        "  print(\"Invalid operation\")\n",
        "\n",
        "\n",
        "\n",
        "\n"
      ],
      "metadata": {
        "id": "S_7yJ7Aas_20"
      },
      "execution_count": null,
      "outputs": []
    },
    {
      "cell_type": "code",
      "source": [
        "#for loop\n",
        "for n in range(5):\n",
        "      print(n)\n",
        "for n in range(1,6):\n",
        "      print(n)\n",
        "for n in range(1,6,2):\n",
        "      print(n)"
      ],
      "metadata": {
        "id": "dVB4-_82EmUI"
      },
      "execution_count": null,
      "outputs": []
    },
    {
      "cell_type": "code",
      "source": [
        "n= int(input(\"Enter the size of the list :-\"))\n",
        "mylist = []\n",
        "\n",
        "for j in range(n):\n",
        "  i = int(input())\n",
        "  mylist.append(i)\n",
        "\n",
        "print(mylist)\n",
        "\n",
        "\n",
        "for i in range(n-1,0,-1):\n",
        "  print(mylist[i])\n",
        "\n",
        "\n",
        "\n",
        "\n",
        "\n",
        "\n",
        "\n",
        "\n",
        "\n",
        "\n",
        "\n",
        "\n"
      ],
      "metadata": {
        "id": "tMDnqxP7Ucof"
      },
      "execution_count": null,
      "outputs": []
    },
    {
      "cell_type": "markdown",
      "source": [
        "for i in range(start, stop , step ):"
      ],
      "metadata": {
        "id": "N-cYUGHS7acX"
      }
    },
    {
      "cell_type": "code",
      "source": [
        "string1 = input(\"enter comma separted values\")\n",
        "\n",
        "listq = string1.split(',')\n",
        "print(listq)\n",
        "j=0\n",
        "for i in listq:\n",
        "  listq[j]=int(i)\n",
        "  j+=1\n",
        "print(listq)"
      ],
      "metadata": {
        "id": "LZnZ3Jd8-JI0"
      },
      "execution_count": null,
      "outputs": []
    },
    {
      "cell_type": "markdown",
      "source": [
        "Tables"
      ],
      "metadata": {
        "id": "sxqHZxNDYdfX"
      }
    },
    {
      "cell_type": "code",
      "source": [
        "n=int(input(\"Enter the number:-\"))\n",
        "for i in range (1,11):\n",
        "  print( n,\"*\",i, \"=\" ,n*i)"
      ],
      "metadata": {
        "id": "jzMO7zGO33o6"
      },
      "execution_count": null,
      "outputs": []
    },
    {
      "cell_type": "markdown",
      "source": [
        "Even or odd"
      ],
      "metadata": {
        "id": "zlaItfwrYThR"
      }
    },
    {
      "cell_type": "code",
      "source": [
        "a=int(input(\"enter the number=\"))\n",
        "if a%2==0:\n",
        "  print(\"even number\")\n",
        "else:\n",
        "  print(\"odd number\")"
      ],
      "metadata": {
        "id": "20HZgmLsHrcq"
      },
      "execution_count": null,
      "outputs": []
    },
    {
      "cell_type": "markdown",
      "source": [
        "prime numbers"
      ],
      "metadata": {
        "id": "ILBYsvW7YYYr"
      }
    },
    {
      "cell_type": "code",
      "source": [
        "n=int(input(\"enter the number\"))\n",
        "if n==1:\n",
        "    print(\"its not prime no\")\n",
        "elif(n>1):\n",
        "  for i in range(2,n):\n",
        "   if (n%2==0):\n",
        "     print(\"its not prime\")\n",
        "     break\n",
        "  else:\n",
        "    print(\"its prime\")"
      ],
      "metadata": {
        "id": "tJSqX9qTWRev"
      },
      "execution_count": null,
      "outputs": []
    },
    {
      "cell_type": "markdown",
      "source": [
        "check if whether prime or not"
      ],
      "metadata": {
        "id": "9bgnZHl_PfaO"
      }
    },
    {
      "cell_type": "code",
      "source": [
        "n=int(input(\"enter the number\"))\n",
        "if n > 1:\n",
        "\n",
        "    for i in range(2, n-1):\n",
        "\n",
        "        if (n % i) == 0:\n",
        "            print(n, \"is not a prime number\")\n",
        "            break\n",
        "    else:\n",
        "        print(n, \"is a prime number\")\n"
      ],
      "metadata": {
        "id": "QausfrpXNesF"
      },
      "execution_count": null,
      "outputs": []
    },
    {
      "cell_type": "code",
      "source": [
        "n1=int(input(\"enter first number:-\"))\n",
        "n2=int(input(\"enter second number:-\"))\n",
        "\n",
        "\n",
        "for i in range(n1, n2 + 1):\n",
        "   if i > 1:\n",
        "       for j in range(2, i):\n",
        "           if (i % j) == 0:\n",
        "               break\n",
        "       else:\n",
        "           print(i)\n",
        "\n",
        "\n",
        "\n",
        "\n",
        "\n",
        "\n"
      ],
      "metadata": {
        "id": "zWlgdyS3Pnn7"
      },
      "execution_count": null,
      "outputs": []
    },
    {
      "cell_type": "code",
      "source": [
        "r=\"\"\n",
        "r=input(\"write a string:- \")\n",
        "t=len(r)\n",
        "\n",
        "#print(t)\n",
        "#for a in range(t):\n",
        "# print(r[a])\n",
        "print(r[-1::-1])\n",
        ""
      ],
      "metadata": {
        "id": "GPKzfgsXVaFm"
      },
      "execution_count": null,
      "outputs": []
    },
    {
      "cell_type": "code",
      "source": [
        "r=\"\"\n",
        "r=input(\"write a string:- \")\n",
        "r2=input(\"\")\n",
        "t=len(r)\n",
        "\n",
        "#print(t)\n",
        "#for a in range(t):\n",
        "# print(r[a])\n",
        "print(r[-1::-1])\n",
        ""
      ],
      "metadata": {
        "id": "0hOzZGh2oTPq"
      },
      "execution_count": null,
      "outputs": []
    }
  ]
}